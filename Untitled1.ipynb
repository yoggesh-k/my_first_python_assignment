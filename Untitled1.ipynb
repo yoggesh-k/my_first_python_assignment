{
 "cells": [
  {
   "cell_type": "code",
   "execution_count": 2,
   "id": "867c8cad-7209-44ff-ab5a-08d74809856c",
   "metadata": {},
   "outputs": [],
   "source": [
    "x=5\n",
    "y=3\n",
    "z=x+y\n"
   ]
  },
  {
   "cell_type": "code",
   "execution_count": 3,
   "id": "04673cad-a18f-4541-a63e-dacf59006784",
   "metadata": {},
   "outputs": [
    {
     "data": {
      "text/plain": [
       "5"
      ]
     },
     "execution_count": 3,
     "metadata": {},
     "output_type": "execute_result"
    }
   ],
   "source": [
    "x=5\n",
    "y=3\n",
    "x"
   ]
  },
  {
   "cell_type": "code",
   "execution_count": 4,
   "id": "fada4fc6-dbc6-4005-850d-7ce71ed5950f",
   "metadata": {},
   "outputs": [
    {
     "data": {
      "text/plain": [
       "3"
      ]
     },
     "execution_count": 4,
     "metadata": {},
     "output_type": "execute_result"
    }
   ],
   "source": [
    "y"
   ]
  },
  {
   "cell_type": "code",
   "execution_count": 5,
   "id": "c301fe8e-bf10-4602-b779-fca374f0f015",
   "metadata": {},
   "outputs": [],
   "source": [
    "result= x+y"
   ]
  },
  {
   "cell_type": "code",
   "execution_count": 6,
   "id": "047903a0-c331-41f5-a6bf-9720f6a95968",
   "metadata": {},
   "outputs": [
    {
     "data": {
      "text/plain": [
       "8"
      ]
     },
     "execution_count": 6,
     "metadata": {},
     "output_type": "execute_result"
    }
   ],
   "source": [
    "result"
   ]
  },
  {
   "cell_type": "code",
   "execution_count": 7,
   "id": "c45f17c9-1cfb-4cdb-8f2f-948b9ab60fc7",
   "metadata": {},
   "outputs": [
    {
     "data": {
      "text/plain": [
       "3"
      ]
     },
     "execution_count": 7,
     "metadata": {},
     "output_type": "execute_result"
    }
   ],
   "source": [
    "y"
   ]
  },
  {
   "cell_type": "code",
   "execution_count": 11,
   "id": "b49bbe40-39e8-4ded-9a90-96189020fa5e",
   "metadata": {},
   "outputs": [
    {
     "data": {
      "text/plain": [
       "31.0"
      ]
     },
     "execution_count": 11,
     "metadata": {},
     "output_type": "execute_result"
    }
   ],
   "source": [
    "# Implicit type casting\n",
    "a = 7  # int\n",
    "b = 3.0  # float\n",
    "c = a + b  # Python converts 'a' to float\n",
    "d = a * b  # Python converts 'a' to float\n",
    "c\n",
    "d\n",
    "c+d"
   ]
  },
  {
   "cell_type": "code",
   "execution_count": 14,
   "id": "d75a345a-670d-4974-b25b-40b29cf7033d",
   "metadata": {},
   "outputs": [
    {
     "data": {
      "text/plain": [
       "8"
      ]
     },
     "execution_count": 14,
     "metadata": {},
     "output_type": "execute_result"
    }
   ],
   "source": [
    " x = 5\n",
    " y = 3\n",
    "result = x + y\n",
    "result"
   ]
  },
  {
   "cell_type": "code",
   "execution_count": 19,
   "id": "e7f0db8b-dc0d-42bb-8bf8-01b88a401b5f",
   "metadata": {},
   "outputs": [
    {
     "name": "stdout",
     "output_type": "stream",
     "text": [
      "Your grade is: B\n"
     ]
    }
   ],
   "source": [
    " #**Grading System**:\n",
    "  # ```python\n",
    " score = 85\n",
    "if score >= 90:\n",
    "       grade = 'A'\n",
    "elif score >= 80:\n",
    "       grade = 'B'\n",
    "elif score >= 70:\n",
    "       grade = 'C'\n",
    "elif score >= 60:\n",
    "       grade = 'D'\n",
    "else:\n",
    "    grade = 'F'\n",
    "print(f\"Your grade is: {grade}\")\n",
    "   # Output: Your grade is: B\n"
   ]
  },
  {
   "cell_type": "code",
   "execution_count": 20,
   "id": "def4b90b-2a17-4ddc-ba7b-205617f66e21",
   "metadata": {},
   "outputs": [
    {
     "name": "stdout",
     "output_type": "stream",
     "text": [
      "apple\n",
      "banana\n",
      "cherry\n"
     ]
    }
   ],
   "source": [
    "fruits = [\"apple\", \"banana\", \"cherry\"]\n",
    "for fruit in fruits:\n",
    "    print(fruit)"
   ]
  },
  {
   "cell_type": "code",
   "execution_count": 24,
   "id": "e1d736c3-ef1c-4f5f-9c9d-eeb1added24c",
   "metadata": {},
   "outputs": [
    {
     "name": "stdout",
     "output_type": "stream",
     "text": [
      "h\n",
      "e\n",
      "l\n",
      "l\n",
      "o\n"
     ]
    }
   ],
   "source": [
    "for char in \"hello\":\n",
    "    print(char)\n",
    "   # Output:\n",
    "   # h\n",
    "   # e\n",
    "   # l\n",
    "   # l\n",
    "   # o"
   ]
  },
  {
   "cell_type": "code",
   "execution_count": 29,
   "id": "f0eafa3d-9b05-46a8-b155-e8d68ed6798c",
   "metadata": {},
   "outputs": [
    {
     "name": "stdout",
     "output_type": "stream",
     "text": [
      "0\n",
      "1\n",
      "2\n",
      "3\n",
      "4\n"
     ]
    }
   ],
   "source": [
    "count = 0\n",
    "while count < 5:\n",
    "    print(count)\n",
    "    count += 1\n",
    "   # Output:\n",
    "   # 0\n",
    "   # 1\n",
    "   # 2\n",
    "   # 3\n",
    "   # 4\n",
    "   "
   ]
  },
  {
   "cell_type": "code",
   "execution_count": 32,
   "id": "799663b3-4451-4977-8df0-94a5e6f55edd",
   "metadata": {},
   "outputs": [
    {
     "name": "stdin",
     "output_type": "stream",
     "text": [
      "Enter something (type 'exit' to quit):  exit\n"
     ]
    },
    {
     "name": "stdout",
     "output_type": "stream",
     "text": [
      "You entered: exit\n"
     ]
    }
   ],
   "source": [
    "user_input = \"\"\n",
    "while user_input.lower() != \"exit\":\n",
    "    user_input = input(\"Enter something (type 'exit' to quit): \")\n",
    "print(f\"You entered: {user_input}\")\n",
    "   # The loop will keep running until the user types \"exit\".\n",
    "   \n"
   ]
  },
  {
   "cell_type": "code",
   "execution_count": 68,
   "id": "0222df80-ca94-4165-8a60-a4b22a99e275",
   "metadata": {},
   "outputs": [
    {
     "ename": "IndentationError",
     "evalue": "expected an indented block after 'for' statement on line 1 (3229767738.py, line 2)",
     "output_type": "error",
     "traceback": [
      "\u001b[0;36m  Cell \u001b[0;32mIn[68], line 2\u001b[0;36m\u001b[0m\n\u001b[0;31m    for j in range(2):\u001b[0m\n\u001b[0m    ^\u001b[0m\n\u001b[0;31mIndentationError\u001b[0m\u001b[0;31m:\u001b[0m expected an indented block after 'for' statement on line 1\n"
     ]
    }
   ],
   "source": [
    "for i in range(3):\n",
    "for j in range(2):\n",
    " print(f\"i = {i}, j = {j}\")\n",
    "   # Output:\n",
    "   # i = 0, j = 0\n",
    "   # i = 0, j = 1\n",
    "   # i = 1, j = 0\n",
    "   # i = 1, j = 1\n",
    "   # i = 2, j = 0\n",
    "   # i = 2, j = 1\n",
    "   ```"
   ]
  },
  {
   "cell_type": "code",
   "execution_count": 69,
   "id": "d2609021-f6b3-462c-ac52-373407246809",
   "metadata": {},
   "outputs": [
    {
     "name": "stdout",
     "output_type": "stream",
     "text": [
      "i = 0, j = 0\n",
      "i = 0, j = 1\n",
      "i = 1, j = 0\n",
      "i = 1, j = 1\n",
      "i = 2, j = 0\n",
      "i = 2, j = 1\n"
     ]
    }
   ],
   "source": [
    "\n",
    "   for i in range(3):\n",
    "        for j in range(2):\n",
    "            print(f\"i = {i}, j = {j}\")\n",
    "   # Output:\n"
   ]
  },
  {
   "cell_type": "code",
   "execution_count": null,
   "id": "47afd752-5611-4034-99ed-331741dee9bd",
   "metadata": {},
   "outputs": [],
   "source": [
    " i = 0\n",
    "while i < 3:\n",
    "    j = 0\n",
    "while j < 2:\n",
    "    print(f\"i = {i}, j = {j}\")\n",
    "    j += 1\n",
    "    i += 1\n",
    "    \n"
   ]
  },
  {
   "cell_type": "code",
   "execution_count": null,
   "id": "4b99fe79-d99f-44e1-8622-98872e87f097",
   "metadata": {},
   "outputs": [],
   "source": []
  }
 ],
 "metadata": {
  "kernelspec": {
   "display_name": "Python 3 (ipykernel)",
   "language": "python",
   "name": "python3"
  },
  "language_info": {
   "codemirror_mode": {
    "name": "ipython",
    "version": 3
   },
   "file_extension": ".py",
   "mimetype": "text/x-python",
   "name": "python",
   "nbconvert_exporter": "python",
   "pygments_lexer": "ipython3",
   "version": "3.10.8"
  }
 },
 "nbformat": 4,
 "nbformat_minor": 5
}
