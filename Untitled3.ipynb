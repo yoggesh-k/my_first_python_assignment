{
 "cells": [
  {
   "cell_type": "code",
   "execution_count": null,
   "id": "e2b7f48e-4856-4489-be03-dd04f392b0e2",
   "metadata": {},
   "outputs": [],
   "source": []
  },
  {
   "cell_type": "code",
   "execution_count": 12,
   "id": "5446f981-28a8-4922-bc8c-b88a9f401f71",
   "metadata": {},
   "outputs": [
    {
     "name": "stdout",
     "output_type": "stream",
     "text": [
      "y is greater than 5\n"
     ]
    }
   ],
   "source": [
    "y = 10\n",
    "if y > 5:\n",
    "    print(\"y is greater than 5\")\n",
    "elif y == 5:\n",
    "    print(\"y is equal to 5\")\n",
    "else:\n",
    "       print(\"y is less than 5\")"
   ]
  },
  {
   "cell_type": "code",
   "execution_count": 17,
   "id": "013bc992-9b5f-4678-b2b4-0a4287d34ba0",
   "metadata": {},
   "outputs": [
    {
     "data": {
      "text/plain": [
       "8"
      ]
     },
     "execution_count": 17,
     "metadata": {},
     "output_type": "execute_result"
    }
   ],
   "source": [
    "x = 5\n",
    "y = 3\n",
    "result = x + y\n",
    "result"
   ]
  },
  {
   "cell_type": "code",
   "execution_count": null,
   "id": "be2df0c5-ae35-4b75-bb7b-0eeb684e2312",
   "metadata": {},
   "outputs": [],
   "source": []
  }
 ],
 "metadata": {
  "kernelspec": {
   "display_name": "Python 3 (ipykernel)",
   "language": "python",
   "name": "python3"
  },
  "language_info": {
   "codemirror_mode": {
    "name": "ipython",
    "version": 3
   },
   "file_extension": ".py",
   "mimetype": "text/x-python",
   "name": "python",
   "nbconvert_exporter": "python",
   "pygments_lexer": "ipython3",
   "version": "3.10.8"
  }
 },
 "nbformat": 4,
 "nbformat_minor": 5
}
